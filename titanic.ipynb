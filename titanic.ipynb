{
  "nbformat": 4,
  "nbformat_minor": 0,
  "metadata": {
    "colab": {
      "name": "titanic.ipynb",
      "provenance": [],
      "include_colab_link": true
    },
    "kernelspec": {
      "name": "python3",
      "display_name": "Python 3"
    }
  },
  "cells": [
    {
      "cell_type": "markdown",
      "metadata": {
        "id": "view-in-github",
        "colab_type": "text"
      },
      "source": [
        "<a href=\"https://colab.research.google.com/github/MuthomiTed/titanic/blob/master/titanic.ipynb\" target=\"_parent\"><img src=\"https://colab.research.google.com/assets/colab-badge.svg\" alt=\"Open In Colab\"/></a>"
      ]
    },
    {
      "cell_type": "code",
      "metadata": {
        "id": "5x1zwVLX58gj",
        "colab_type": "code",
        "colab": {}
      },
      "source": [
        "# Import CategoricalImputer: inputs and outputs numpy array\n",
        "from sklearn_pandas import CategoricalImputer\n",
        "\n",
        "# Import pandas\n",
        "import pandas as pd\n",
        "\n",
        "# categorical_imputer\n",
        "class Categorical_Imputer:\n",
        "    \"\"\"\n",
        "    Imputing categorical data using the most frequent value\n",
        "    \"\"\"\n",
        "    \n",
        "    # instance attribute\n",
        "    def __init__(self, strategy):\n",
        "        self.strategy = strategy\n",
        "        \n",
        "    # instance method\n",
        "    def fit_transform(self, df:'dataframe')->'dataframe':\n",
        "        \"\"\"\n",
        "        Fill in missing categorical values using most frequent value\n",
        "        \"\"\"\n",
        "        \n",
        "        # instantiate CategoricalImputer\n",
        "        imputer = CategoricalImputer()\n",
        "        \n",
        "        # convert array to dataframe\n",
        "        df_filled = df.apply(lambda x: imputer.fit_transform(x), axis=0)\n",
        "        \n",
        "        # return filled dataframe\n",
        "        return df_filled"
      ],
      "execution_count": 0,
      "outputs": []
    },
    {
      "cell_type": "code",
      "metadata": {
        "id": "TyorVyrr84Pr",
        "colab_type": "code",
        "colab": {}
      },
      "source": [
        "# Function to calculate missing values by column\n",
        "def missing_values_table(df):\n",
        "   \n",
        "    # Total missing values\n",
        "    mis_val = df.isnull().sum()\n",
        "    \n",
        "    # Percentage of missing values\n",
        "    mis_val_percent = 100 * df.isnull().sum() / len(df)\n",
        "    \n",
        "    # Make a table with the results\n",
        "    mis_val_table = pd.concat([mis_val, mis_val_percent], axis=1)\n",
        "    \n",
        "    # Rename the columns\n",
        "    mis_val_table_ren_columns = mis_val_table.rename(\n",
        "    columns = {0 : 'Missing Values', 1 : '% of Total Values'})\n",
        "    \n",
        "    # Sort the table by percentage of missing descending\n",
        "    # .iloc[:, 1]!= 0: filter on missing missing values not equal to zero\n",
        "    mis_val_table_ren_columns = mis_val_table_ren_columns[\n",
        "        mis_val_table_ren_columns.iloc[:,1] != 0].sort_values(\n",
        "    '% of Total Values', ascending=False).round(2)  # round(2), keep 2 digits\n",
        "    \n",
        "    # Print some summary information\n",
        "    print(\"Your slelected dataframe has {} columns.\".format(df.shape[1]) + '\\n' + \n",
        "    \"There are {} columns that have missing values.\".format(mis_val_table_ren_columns.shape[0]))\n",
        "    \n",
        "    # Return the dataframe with missing information\n",
        "    return mis_val_table_ren_columns\n"
      ],
      "execution_count": 0,
      "outputs": []
    },
    {
      "cell_type": "code",
      "metadata": {
        "id": "k05n2crr8_sT",
        "colab_type": "code",
        "outputId": "91899985-f06f-4ec4-e8c9-322cb0b8cb17",
        "colab": {
          "base_uri": "https://localhost:8080/",
          "height": 363
        }
      },
      "source": [
        "# Pandas\n",
        "import pandas as pd\n",
        "\n",
        "# Numpy\n",
        "import numpy as np\n",
        "\n",
        "# matplotlib\n",
        "import matplotlib.pyplot as plt\n",
        "\n",
        "# Ipython tool for figsize\n",
        "from IPython.core.pylabtools import figsize\n",
        "\n",
        "# train test split\n",
        "from sklearn.model_selection import train_test_split\n",
        "\n",
        "# Pipeline\n",
        "from sklearn.pipeline import Pipeline\n",
        "\n",
        "# DictVectorizer\n",
        "from sklearn.feature_extraction import DictVectorizer\n",
        "\n",
        "# XGB\n",
        "import xgboost as xgb\n",
        "\n",
        "# cross_val_score\n",
        "from sklearn.model_selection import cross_val_score\n",
        "\n",
        "# DataframeMapper, CategoricalImputer\n",
        "from sklearn_pandas import DataFrameMapper, CategoricalImputer\n",
        "\n",
        "# Imputer\n",
        "from sklearn.preprocessing import Imputer\n",
        "\n",
        "# FeatureUnion\n",
        "from sklearn.pipeline import FeatureUnion\n",
        "\n",
        "# Function Transformer\n",
        "from sklearn.preprocessing import FunctionTransformer\n",
        "\n",
        "# check missing value percentage *(Self Defined Package)\n",
        "from missing_value.missing_values_table import missing_values_table\n",
        "\n",
        "# fill categoriacal missing values *(Self Defined Package)\n",
        "from missing_value.fill_missing_values import Categorical_Imputer\n",
        "\n",
        "# Plot AUC *(Self Defined Package)\n",
        "from metrics.roc_auc import roc_auc\n",
        "\n",
        "# ROC AUC\n",
        "from sklearn.metrics import roc_auc_score, roc_curve"
      ],
      "execution_count": 0,
      "outputs": [
        {
          "output_type": "error",
          "ename": "ModuleNotFoundError",
          "evalue": "ignored",
          "traceback": [
            "\u001b[0;31m---------------------------------------------------------------------------\u001b[0m",
            "\u001b[0;31mModuleNotFoundError\u001b[0m                       Traceback (most recent call last)",
            "\u001b[0;32m<ipython-input-4-2cd637d226c9>\u001b[0m in \u001b[0;36m<module>\u001b[0;34m()\u001b[0m\n\u001b[1;32m     38\u001b[0m \u001b[0;34m\u001b[0m\u001b[0m\n\u001b[1;32m     39\u001b[0m \u001b[0;31m# check missing value percentage *(Self Defined Package)\u001b[0m\u001b[0;34m\u001b[0m\u001b[0;34m\u001b[0m\u001b[0;34m\u001b[0m\u001b[0m\n\u001b[0;32m---> 40\u001b[0;31m \u001b[0;32mfrom\u001b[0m \u001b[0mmissing_value\u001b[0m\u001b[0;34m.\u001b[0m\u001b[0mmissing_values_table\u001b[0m \u001b[0;32mimport\u001b[0m \u001b[0mmissing_values_table\u001b[0m\u001b[0;34m\u001b[0m\u001b[0;34m\u001b[0m\u001b[0m\n\u001b[0m\u001b[1;32m     41\u001b[0m \u001b[0;34m\u001b[0m\u001b[0m\n\u001b[1;32m     42\u001b[0m \u001b[0;31m# fill categoriacal missing values *(Self Defined Package)\u001b[0m\u001b[0;34m\u001b[0m\u001b[0;34m\u001b[0m\u001b[0;34m\u001b[0m\u001b[0m\n",
            "\u001b[0;31mModuleNotFoundError\u001b[0m: No module named 'missing_value'",
            "",
            "\u001b[0;31m---------------------------------------------------------------------------\u001b[0;32m\nNOTE: If your import is failing due to a missing package, you can\nmanually install dependencies using either !pip or !apt.\n\nTo view examples of installing some common dependencies, click the\n\"Open Examples\" button below.\n\u001b[0;31m---------------------------------------------------------------------------\u001b[0m\n"
          ]
        }
      ]
    },
    {
      "cell_type": "code",
      "metadata": {
        "id": "XvBPVmz09X_G",
        "colab_type": "code",
        "colab": {}
      },
      "source": [
        "# matplotlib\n",
        "import matplotlib.pyplot as plt\n",
        "\n",
        "# roc_auc_score, roc_curve\n",
        "from sklearn.metrics import roc_auc_score, roc_curve\n",
        "\n",
        "class roc_auc:\n",
        "    \"\"\"\n",
        "    Calculate AUC score, Plot ROC curve\n",
        "    \"\"\"\n",
        "    \n",
        "    # instance attribute\n",
        "    def __init__(self, y_test, y_pred_prob, model='model'):\n",
        "        self.y_test = y_test\n",
        "        self.y_pred_prob = y_pred_prob\n",
        "        self.model = model\n",
        "        \n",
        "    # instance method\n",
        "    def auc(self):\n",
        "        \"\"\"\n",
        "        calculate auc score\n",
        "        \"\"\"\n",
        "        auc_score = roc_auc_score(self.y_test, self.y_pred_prob)\n",
        "        \n",
        "        return auc_score\n",
        "        \n",
        "    # instance method\n",
        "    def plot_roc(self):\n",
        "        \"\"\"\n",
        "        plot roc curve\n",
        "        \"\"\"\n",
        "        # AUC score\n",
        "        auc_score = roc_auc_score(self.y_test, self.y_pred_prob)\n",
        "        \n",
        "        # fpr, tpr, threshold\n",
        "        fpr, tpr, thresholds = roc_curve(self.y_test, self.y_pred_prob)\n",
        "        \n",
        "        # ROC curve plot\n",
        "        _ = plt.plot([0, 1], [0, 1], 'k--')\n",
        "        _ = plt.plot(fpr, tpr, label= self.model + ' Classifier (AUC = {: .2f})'.format(auc_score))\n",
        "        _ = plt.xlabel('False Positive Rate')\n",
        "        _ = plt.ylabel('True Positive Rate')\n",
        "        _ = plt.legend(loc='lower right')\n",
        "        _ = plt.title(self.model + ' Classifier ROC Curve')\n",
        "        _ = plt.show()"
      ],
      "execution_count": 0,
      "outputs": []
    },
    {
      "cell_type": "code",
      "metadata": {
        "id": "X1G-kZzVAXXG",
        "colab_type": "code",
        "outputId": "1d54d483-2d6e-4e0f-aa14-ffcec023be41",
        "colab": {
          "base_uri": "https://localhost:8080/",
          "height": 330
        }
      },
      "source": [
        "from sklearn import metrics\n",
        "\n",
        "from metrics.roc_auc import roc_auc"
      ],
      "execution_count": 0,
      "outputs": [
        {
          "output_type": "error",
          "ename": "ModuleNotFoundError",
          "evalue": "ignored",
          "traceback": [
            "\u001b[0;31m---------------------------------------------------------------------------\u001b[0m",
            "\u001b[0;31mModuleNotFoundError\u001b[0m                       Traceback (most recent call last)",
            "\u001b[0;32m<ipython-input-12-727942dbf65e>\u001b[0m in \u001b[0;36m<module>\u001b[0;34m()\u001b[0m\n\u001b[1;32m      1\u001b[0m \u001b[0;32mfrom\u001b[0m \u001b[0msklearn\u001b[0m \u001b[0;32mimport\u001b[0m \u001b[0mmetrics\u001b[0m\u001b[0;34m\u001b[0m\u001b[0;34m\u001b[0m\u001b[0m\n\u001b[1;32m      2\u001b[0m \u001b[0;34m\u001b[0m\u001b[0m\n\u001b[0;32m----> 3\u001b[0;31m \u001b[0;32mfrom\u001b[0m \u001b[0mmetrics\u001b[0m\u001b[0;34m.\u001b[0m\u001b[0mroc_auc\u001b[0m \u001b[0;32mimport\u001b[0m \u001b[0mroc_auc\u001b[0m\u001b[0;34m\u001b[0m\u001b[0;34m\u001b[0m\u001b[0m\n\u001b[0m",
            "\u001b[0;31mModuleNotFoundError\u001b[0m: No module named 'metrics'",
            "",
            "\u001b[0;31m---------------------------------------------------------------------------\u001b[0;32m\nNOTE: If your import is failing due to a missing package, you can\nmanually install dependencies using either !pip or !apt.\n\nTo view examples of installing some common dependencies, click the\n\"Open Examples\" button below.\n\u001b[0;31m---------------------------------------------------------------------------\u001b[0m\n"
          ]
        }
      ]
    },
    {
      "cell_type": "code",
      "metadata": {
        "id": "-MDNr_kRB5mp",
        "colab_type": "code",
        "outputId": "4cf5bdaa-4c0d-4d4d-be69-3960a3a64725",
        "colab": {
          "base_uri": "https://localhost:8080/",
          "height": 162
        }
      },
      "source": [
        "metrics.accuracy_score()"
      ],
      "execution_count": 0,
      "outputs": [
        {
          "output_type": "error",
          "ename": "TypeError",
          "evalue": "ignored",
          "traceback": [
            "\u001b[0;31m---------------------------------------------------------------------------\u001b[0m",
            "\u001b[0;31mTypeError\u001b[0m                                 Traceback (most recent call last)",
            "\u001b[0;32m<ipython-input-10-5a202c265fa2>\u001b[0m in \u001b[0;36m<module>\u001b[0;34m()\u001b[0m\n\u001b[0;32m----> 1\u001b[0;31m \u001b[0mmetrics\u001b[0m\u001b[0;34m.\u001b[0m\u001b[0maccuracy_score\u001b[0m\u001b[0;34m(\u001b[0m\u001b[0;34m)\u001b[0m\u001b[0;34m\u001b[0m\u001b[0;34m\u001b[0m\u001b[0m\n\u001b[0m",
            "\u001b[0;31mTypeError\u001b[0m: accuracy_score() missing 2 required positional arguments: 'y_true' and 'y_pred'"
          ]
        }
      ]
    },
    {
      "cell_type": "code",
      "metadata": {
        "id": "Wm0LaFDfCUWC",
        "colab_type": "code",
        "colab": {}
      },
      "source": [
        "# Python code to illustrate the Modules \n",
        "class Bmw: \n",
        "    # First we create a constructor for this class \n",
        "    # and add members to it, here models \n",
        "    def __init__(self): \n",
        "        self.models = ['i8', 'x1', 'x5', 'x6'] \n",
        "   \n",
        "    # A normal print function \n",
        "    def outModels(self): \n",
        "        print('These are the available models for BMW') \n",
        "        for model in self.models: \n",
        "            print('\\t%s ' % model) "
      ],
      "execution_count": 0,
      "outputs": []
    },
    {
      "cell_type": "code",
      "metadata": {
        "id": "6mPOQ8s7DTwX",
        "colab_type": "code",
        "colab": {}
      },
      "source": [
        "# Python code to illustrate the Module \n",
        "class Audi: \n",
        "    # First we create a constructor for this class \n",
        "    # and add members to it, here models \n",
        "    def __init__(self): \n",
        "        self.models = ['q7', 'a6', 'a8', 'a3'] \n",
        "  \n",
        "    # A normal print function \n",
        "    def outModels(self): \n",
        "        print('These are the available models for Audi') \n",
        "        for model in self.models: \n",
        "            print('\\t%s ' % model) "
      ],
      "execution_count": 0,
      "outputs": []
    },
    {
      "cell_type": "code",
      "metadata": {
        "id": "TLVCIer7DZxV",
        "colab_type": "code",
        "colab": {}
      },
      "source": [
        "# Python code to illustrate the Module \n",
        "class Nissan: \n",
        "    # First we create a constructor for this class \n",
        "    # and add members to it, here models \n",
        "    def __init__(self): \n",
        "        self.models = ['altima', '370z', 'cube', 'rogue'] \n",
        "  \n",
        "    # A normal print function \n",
        "    def outModels(self): \n",
        "        print('These are the available models for Nissan') \n",
        "        for model in self.models: \n",
        "            print('\\t%s ' % model) "
      ],
      "execution_count": 0,
      "outputs": []
    },
    {
      "cell_type": "code",
      "metadata": {
        "id": "5gEXNy2jDfXZ",
        "colab_type": "code",
        "outputId": "4d884f6f-6bed-41a2-c159-5136bfd2da78",
        "colab": {
          "base_uri": "https://localhost:8080/",
          "height": 330
        }
      },
      "source": [
        "from Bmw import Bmw \n",
        "from Audi import Audi \n",
        "from Nissan import Nissan "
      ],
      "execution_count": 0,
      "outputs": [
        {
          "output_type": "error",
          "ename": "ModuleNotFoundError",
          "evalue": "ignored",
          "traceback": [
            "\u001b[0;31m---------------------------------------------------------------------------\u001b[0m",
            "\u001b[0;31mModuleNotFoundError\u001b[0m                       Traceback (most recent call last)",
            "\u001b[0;32m<ipython-input-16-faeb21330774>\u001b[0m in \u001b[0;36m<module>\u001b[0;34m()\u001b[0m\n\u001b[0;32m----> 1\u001b[0;31m \u001b[0;32mfrom\u001b[0m \u001b[0mBmw\u001b[0m \u001b[0;32mimport\u001b[0m \u001b[0mBmw\u001b[0m\u001b[0;34m\u001b[0m\u001b[0;34m\u001b[0m\u001b[0m\n\u001b[0m\u001b[1;32m      2\u001b[0m \u001b[0;32mfrom\u001b[0m \u001b[0mAudi\u001b[0m \u001b[0;32mimport\u001b[0m \u001b[0mAudi\u001b[0m\u001b[0;34m\u001b[0m\u001b[0;34m\u001b[0m\u001b[0m\n\u001b[1;32m      3\u001b[0m \u001b[0;32mfrom\u001b[0m \u001b[0mNissan\u001b[0m \u001b[0;32mimport\u001b[0m \u001b[0mNissan\u001b[0m\u001b[0;34m\u001b[0m\u001b[0;34m\u001b[0m\u001b[0m\n",
            "\u001b[0;31mModuleNotFoundError\u001b[0m: No module named 'Bmw'",
            "",
            "\u001b[0;31m---------------------------------------------------------------------------\u001b[0;32m\nNOTE: If your import is failing due to a missing package, you can\nmanually install dependencies using either !pip or !apt.\n\nTo view examples of installing some common dependencies, click the\n\"Open Examples\" button below.\n\u001b[0;31m---------------------------------------------------------------------------\u001b[0m\n"
          ]
        }
      ]
    },
    {
      "cell_type": "code",
      "metadata": {
        "id": "C_bBd6UrDlhY",
        "colab_type": "code",
        "outputId": "e6b33a76-2433-4940-f891-b3a584a11112",
        "colab": {
          "base_uri": "https://localhost:8080/",
          "height": 363
        }
      },
      "source": [
        "# Import classes from your brand new package \n",
        "from Cars import Bmw \n",
        "from Cars import Audi \n",
        "from Cars import Nissan \n",
        "   \n",
        "# Create an object of Bmw class & call its method \n",
        "ModBMW = Bmw() \n",
        "ModBMW.outModels() \n",
        "   \n",
        "# Create an object of Audi class & call its method \n",
        "ModAudi = Audi() \n",
        "ModAudi.outModels() \n",
        "  \n",
        "# Create an object of Nissan class & call its method \n",
        "ModNissan = Nissan() \n",
        "ModNissan.outModels() "
      ],
      "execution_count": 0,
      "outputs": [
        {
          "output_type": "error",
          "ename": "ModuleNotFoundError",
          "evalue": "ignored",
          "traceback": [
            "\u001b[0;31m---------------------------------------------------------------------------\u001b[0m",
            "\u001b[0;31mModuleNotFoundError\u001b[0m                       Traceback (most recent call last)",
            "\u001b[0;32m<ipython-input-17-fec7fac9bf73>\u001b[0m in \u001b[0;36m<module>\u001b[0;34m()\u001b[0m\n\u001b[0;32m----> 1\u001b[0;31m \u001b[0;32mfrom\u001b[0m \u001b[0mCars\u001b[0m \u001b[0;32mimport\u001b[0m \u001b[0mBmw\u001b[0m\u001b[0;34m\u001b[0m\u001b[0;34m\u001b[0m\u001b[0m\n\u001b[0m\u001b[1;32m      2\u001b[0m \u001b[0;32mfrom\u001b[0m \u001b[0mCars\u001b[0m \u001b[0;32mimport\u001b[0m \u001b[0mAudi\u001b[0m\u001b[0;34m\u001b[0m\u001b[0;34m\u001b[0m\u001b[0m\n\u001b[1;32m      3\u001b[0m \u001b[0;32mfrom\u001b[0m \u001b[0mCars\u001b[0m \u001b[0;32mimport\u001b[0m \u001b[0mNissan\u001b[0m\u001b[0;34m\u001b[0m\u001b[0;34m\u001b[0m\u001b[0m\n\u001b[1;32m      4\u001b[0m \u001b[0;34m\u001b[0m\u001b[0m\n\u001b[1;32m      5\u001b[0m \u001b[0;31m# Create an object of Bmw class & call its method\u001b[0m\u001b[0;34m\u001b[0m\u001b[0;34m\u001b[0m\u001b[0;34m\u001b[0m\u001b[0m\n",
            "\u001b[0;31mModuleNotFoundError\u001b[0m: No module named 'Cars'",
            "",
            "\u001b[0;31m---------------------------------------------------------------------------\u001b[0;32m\nNOTE: If your import is failing due to a missing package, you can\nmanually install dependencies using either !pip or !apt.\n\nTo view examples of installing some common dependencies, click the\n\"Open Examples\" button below.\n\u001b[0;31m---------------------------------------------------------------------------\u001b[0m\n"
          ]
        }
      ]
    },
    {
      "cell_type": "code",
      "metadata": {
        "id": "dIIU08W0D2C5",
        "colab_type": "code",
        "colab": {}
      },
      "source": [
        ""
      ],
      "execution_count": 0,
      "outputs": []
    }
  ]
}